{
 "cells": [
  {
   "cell_type": "markdown",
   "metadata": {},
   "source": [
    "This notebook is used to clean the columns (feature selection) of the table df_master_X, X being the selected number of months in the variable months. At the end of the notebook there are several plots that have been useful to understand the data.\n",
    "\n",
    "After the cleaning the train and test tables for the selected number of months are saved to csv files."
   ]
  },
  {
   "cell_type": "code",
   "execution_count": null,
   "metadata": {
    "colab": {
     "base_uri": "https://localhost:8080/"
    },
    "id": "54A-R-j2c2b3",
    "outputId": "49f40ebc-d12b-419b-b011-aa039eebb037"
   },
   "outputs": [],
   "source": [
    "from google.colab import drive\n",
    "drive.mount('/content/drive')"
   ]
  },
  {
   "cell_type": "code",
   "execution_count": null,
   "metadata": {
    "id": "LCh34WsJcvh2"
   },
   "outputs": [],
   "source": [
    "import numpy as np\n",
    "import pandas as pd\n",
    "import plotly.graph_objs as go\n",
    "import plotly.express as px\n",
    "from sklearn.model_selection import train_test_split\n",
    "from sklearn.utils import resample\n",
    "\n",
    "path = '/content/drive/MyDrive/TFG ICO/Notebooks/Tables/'"
   ]
  },
  {
   "cell_type": "code",
   "execution_count": null,
   "metadata": {
    "id": "VIe1Uqum3_ov"
   },
   "outputs": [],
   "source": [
    "months = 36"
   ]
  },
  {
   "cell_type": "markdown",
   "metadata": {
    "id": "YRZBDprUcvh2"
   },
   "source": [
    "### Load the training set\n",
    "Load the data from csv file, split it into training and testing sets, and create the dataframe to be analysed from the training set only."
   ]
  },
  {
   "cell_type": "code",
   "execution_count": null,
   "metadata": {
    "colab": {
     "base_uri": "https://localhost:8080/",
     "height": 321
    },
    "id": "FPczJLEbcvh2",
    "outputId": "dcf46081-9f41-4627-a3ae-634948837aca"
   },
   "outputs": [],
   "source": [
    "def load(num_months):\n",
    "    df = pd.read_csv(path + 'df_master_{}.csv'.format(num_months))\n",
    "    \n",
    "    X = df.loc[:, df.columns != 'is_dead']\n",
    "    y = df['is_dead']\n",
    "\n",
    "    X_train, X_test, y_train, y_test = train_test_split(X, y, test_size=0.15, random_state=0, stratify=y)\n",
    "\n",
    "    df_train = X_train.copy()\n",
    "    df_train['is_dead'] = y_train.copy()\n",
    "\n",
    "    df_test = X_test.copy()\n",
    "    df_test['is_dead'] = y_test.copy()\n",
    "\n",
    "    print(f'For {num_months} months... \\nOriginal dataframe: {len(df)} patients')\n",
    "    print('Training set:', len(df_train), 'patients')\n",
    "    print('Test set:', len(df_test), 'patients')\n",
    "\n",
    "    return df_train, df_test\n",
    "\n",
    "df, df_test = load(months)\n",
    "df.head()"
   ]
  },
  {
   "cell_type": "code",
   "execution_count": null,
   "metadata": {
    "colab": {
     "base_uri": "https://localhost:8080/"
    },
    "id": "t1jkEazOcvh3",
    "outputId": "2a610b95-2d28-4594-a93f-4a170d557440"
   },
   "outputs": [],
   "source": [
    "num_dead = df.is_dead.sum()\n",
    "perc_dead = round(100*num_dead/len(df), 1)\n",
    "print(\"There is a {}% of dead patients in this dataframe ({} out of {})\".format(perc_dead, num_dead, len(df)))"
   ]
  },
  {
   "cell_type": "markdown",
   "metadata": {
    "id": "m3tstLXBcvh3"
   },
   "source": [
    "Generate descriptive statistics."
   ]
  },
  {
   "cell_type": "code",
   "execution_count": null,
   "metadata": {
    "colab": {
     "base_uri": "https://localhost:8080/",
     "height": 204
    },
    "id": "O1VZmC7Fcvh3",
    "outputId": "1ca9e5ef-bce5-4e3c-ac20-5e19c700df4a"
   },
   "outputs": [],
   "source": [
    "df_descr = df.describe().transpose()\n",
    "df_descr['count_null'] = len(df) - df_descr['count']\n",
    "df_descr['perc_null'] = round(100*df_descr['count_null']/len(df), 2)\n",
    "df_descr.head()"
   ]
  },
  {
   "cell_type": "markdown",
   "metadata": {
    "id": "3-eFghWHcvh3"
   },
   "source": [
    "Show columns with a very little amount of non zero values, and the percentage of those which correspond to dead patients"
   ]
  },
  {
   "cell_type": "code",
   "execution_count": null,
   "metadata": {
    "colab": {
     "base_uri": "https://localhost:8080/"
    },
    "id": "SOFtutfqcvh3",
    "outputId": "b0f658a0-407e-473a-cdfa-9555e969227f"
   },
   "outputs": [],
   "source": [
    "threshold_null = 99  # In %\n",
    "threshold_dead = 50  # In %\n",
    "\n",
    "df_aux = df_descr[df_descr.perc_null > threshold_null]\n",
    "cols_to_drop = []\n",
    "\n",
    "for col in df_aux.index:\n",
    "    rows_not_empty = df[~df[col].isna()]\n",
    "    if len(rows_not_empty) == 0:\n",
    "      cols_to_drop.append(col)\n",
    "    else:\n",
    "      num_dead = rows_not_empty['is_dead'].sum()\n",
    "      perc_dead = 100*num_dead/len(rows_not_empty)\n",
    "\n",
    "      if perc_dead <= threshold_dead:\n",
    "          cols_to_drop.append(col)\n",
    "          #print('{} dropped -- {}% dead ({} out of {})'.format(col, round(perc_dead, 1), num_dead, len(rows_not_empty)))\n",
    "      else:\n",
    "          #pass\n",
    "          print('{} not dropped -- {}% dead ({} out of {})'.format(col, round(perc_dead, 1), num_dead, len(rows_not_empty)))\n",
    "    \n",
    "df.drop(columns=cols_to_drop, inplace=True)\n",
    "df_descr.drop(index=cols_to_drop, inplace=True)\n",
    "\n",
    "print('\\n', len(cols_to_drop), 'dropped columns: \\n', sorted(cols_to_drop))"
   ]
  },
  {
   "cell_type": "markdown",
   "metadata": {
    "id": "wGolyV78cvh3"
   },
   "source": [
    "## Save clean tables to csv"
   ]
  },
  {
   "cell_type": "markdown",
   "metadata": {
    "id": "rY5R2_Mhyly0"
   },
   "source": [
    "Apply the same transformations to the test set. Save both tables."
   ]
  },
  {
   "cell_type": "code",
   "execution_count": null,
   "metadata": {
    "id": "F2QIackZcvh3"
   },
   "outputs": [],
   "source": [
    "df.to_csv(path + f'df_train_{months}.csv', index=False)\n",
    "\n",
    "df_test = df_test[df.columns]\n",
    "df_test.to_csv(path + f'df_test_{months}.csv', index=False)"
   ]
  },
  {
   "cell_type": "markdown",
   "metadata": {
    "id": "pRGKlD97cvh3"
   },
   "source": [
    "***\n",
    "# PLOTS"
   ]
  },
  {
   "cell_type": "code",
   "execution_count": null,
   "metadata": {
    "colab": {
     "base_uri": "https://localhost:8080/"
    },
    "id": "9WQs8fJEcvh3",
    "outputId": "b4ca7638-936f-4260-8e67-beb8fe31a992"
   },
   "outputs": [],
   "source": [
    "df.is_woman.value_counts()"
   ]
  },
  {
   "cell_type": "code",
   "execution_count": null,
   "metadata": {
    "colab": {
     "base_uri": "https://localhost:8080/",
     "height": 542
    },
    "id": "lh3IhV9jcvh7",
    "outputId": "192afb27-eadd-4238-efce-cc03341effdd",
    "scrolled": false
   },
   "outputs": [],
   "source": [
    "fig = px.histogram(df, x='is_woman', title='Proportion of women and men', histnorm='percent')\n",
    "fig.show()"
   ]
  },
  {
   "cell_type": "code",
   "execution_count": null,
   "metadata": {
    "colab": {
     "base_uri": "https://localhost:8080/"
    },
    "id": "tIjyo-ygt_bg",
    "outputId": "f9b50588-4b40-44ef-a981-04c79b00af84"
   },
   "outputs": [],
   "source": [
    "df.C50.value_counts()"
   ]
  },
  {
   "cell_type": "code",
   "execution_count": null,
   "metadata": {
    "colab": {
     "base_uri": "https://localhost:8080/",
     "height": 542
    },
    "id": "_SEt59_ztNlj",
    "outputId": "990f643c-18b9-457b-aadd-ad56b4b31530"
   },
   "outputs": [],
   "source": [
    "fig = px.histogram(df, x='C50', title='Number of C50 diagnoses per patient', histnorm='percent')\n",
    "fig.show()"
   ]
  },
  {
   "cell_type": "markdown",
   "metadata": {
    "id": "-kwdhO-Scvh8"
   },
   "source": [
    "## Boxplots"
   ]
  },
  {
   "cell_type": "code",
   "execution_count": null,
   "metadata": {
    "id": "-D_R5qdEcvh8"
   },
   "outputs": [],
   "source": [
    "codes_no_date = [cod for cod in df.columns if len(cod) in [3, 7] and cod not in ['is_dead']]\n",
    "codes_dates = [cod for cod in df.columns if '_' in cod and cod not in ['is_dead','is_woman']]"
   ]
  },
  {
   "cell_type": "code",
   "execution_count": null,
   "metadata": {
    "colab": {
     "base_uri": "https://localhost:8080/",
     "height": 1000
    },
    "id": "bnXCLLTkcvh8",
    "outputId": "dabad4b6-8bfc-404a-85dd-099319045dbd"
   },
   "outputs": [],
   "source": [
    "fig = go.Figure()\n",
    "\n",
    "for col in codes_no_date:\n",
    "    fig.add_trace(go.Box(x=df[col], name=col))\n",
    "\n",
    "fig.update_layout(height=1000, showlegend=False)\n",
    "fig.show()"
   ]
  },
  {
   "cell_type": "code",
   "execution_count": null,
   "metadata": {
    "colab": {
     "base_uri": "https://localhost:8080/",
     "height": 1000
    },
    "id": "HP9RvT9Wcvh9",
    "outputId": "778536ed-3038-4618-b7c3-cdaf3d6f2e0b"
   },
   "outputs": [],
   "source": [
    "fig = go.Figure()\n",
    "\n",
    "for col in codes_dates:\n",
    "    fig.add_trace(go.Box(x=df[col], name=col))\n",
    "\n",
    "fig.update_layout(height=1000, showlegend=False)\n",
    "fig.show()"
   ]
  },
  {
   "cell_type": "code",
   "execution_count": null,
   "metadata": {
    "id": "1_ptQiTKcvh9"
   },
   "outputs": [],
   "source": []
  }
 ],
 "metadata": {
  "colab": {
   "collapsed_sections": [],
   "name": "2. Cleaning the tables.ipynb",
   "provenance": []
  },
  "kernelspec": {
   "display_name": "Python 3",
   "language": "python",
   "name": "python3"
  },
  "language_info": {
   "codemirror_mode": {
    "name": "ipython",
    "version": 3
   },
   "file_extension": ".py",
   "mimetype": "text/x-python",
   "name": "python",
   "nbconvert_exporter": "python",
   "pygments_lexer": "ipython3",
   "version": "3.6.9"
  }
 },
 "nbformat": 4,
 "nbformat_minor": 1
}
