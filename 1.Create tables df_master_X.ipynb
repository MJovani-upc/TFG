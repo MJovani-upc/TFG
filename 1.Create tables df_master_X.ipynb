{
 "cells": [
  {
   "cell_type": "markdown",
   "metadata": {
    "id": "SkZvLnhN33yr"
   },
   "source": [
    "This notebook can be run to create the master table for the number of months indicated in the variable num_months. The tables that are created have the format described in Section 2.4 of the thesis.\n",
    "\n",
    "This notebook is meant to be run from Google Colab. The following cell connects the notebook with the drive account which has access to the data, which is located at the path."
   ]
  },
  {
   "cell_type": "code",
   "execution_count": null,
   "metadata": {
    "colab": {
     "base_uri": "https://localhost:8080/"
    },
    "id": "UGKKSRJJo988",
    "outputId": "15da0f39-18cd-4d73-b6cf-5224e0baa670"
   },
   "outputs": [],
   "source": [
    "from google.colab import drive\n",
    "drive.mount('/content/drive')"
   ]
  },
  {
   "cell_type": "code",
   "execution_count": null,
   "metadata": {
    "id": "aoih6m8mpWEN"
   },
   "outputs": [],
   "source": [
    "path = '/content/drive/MyDrive/TFG ICO/Notebooks/Tables/'\n",
    "num_months = 12"
   ]
  },
  {
   "cell_type": "code",
   "execution_count": null,
   "metadata": {
    "id": "K_zBuT76o-ls"
   },
   "outputs": [],
   "source": [
    "import numpy as np\n",
    "import pandas as pd\n",
    "import pickle"
   ]
  },
  {
   "cell_type": "markdown",
   "metadata": {
    "id": "jHa0jF0HyNVq"
   },
   "source": [
    "## **Part I:** Filtering and transforming"
   ]
  },
  {
   "cell_type": "markdown",
   "metadata": {
    "id": "u_BG8BlSp0Ck"
   },
   "source": [
    "Load the original tables *pacients*, *problemes* and *facturacions*, which contain information about patients, diagnoses and medications, respectively."
   ]
  },
  {
   "cell_type": "code",
   "execution_count": null,
   "metadata": {
    "id": "VOZT8ZpFpYqx"
   },
   "outputs": [],
   "source": [
    "pacients = pd.read_csv(path + 'pacients.csv')\n",
    "problemes = pd.read_csv(path + 'problemes.csv')\n",
    "facturacions = pd.read_csv(path + 'facturacions.csv')"
   ]
  },
  {
   "cell_type": "markdown",
   "metadata": {
    "id": "njfbKzCYqPI-"
   },
   "source": [
    "Select the columns which will be used:\n",
    "- *ID*, *sexe*, *dnaix*, *sortida* and *situacio* in **pacients**.\n",
    "- *ID*, *cod*, *dat* and *dbaixa* in **problemes** (all the columns in the table)\n",
    "- *ID*, *cod*, *dat* and *env* in **facturacions** (all the columns in the table)"
   ]
  },
  {
   "cell_type": "code",
   "execution_count": null,
   "metadata": {
    "colab": {
     "base_uri": "https://localhost:8080/",
     "height": 206
    },
    "id": "U8UUdX6opYw_",
    "outputId": "6a96ac19-bf9a-41b5-9311-5d66ea63a21c"
   },
   "outputs": [],
   "source": [
    "pacients = pacients[['ID', 'sexe', 'dnaix', 'sortida', 'situacio']]\n",
    "pacients.head()"
   ]
  },
  {
   "cell_type": "code",
   "execution_count": null,
   "metadata": {
    "colab": {
     "base_uri": "https://localhost:8080/",
     "height": 206
    },
    "id": "Vx7m1nZRqgeh",
    "outputId": "7b7e1b9f-d446-48eb-8dea-b1581fb3802a"
   },
   "outputs": [],
   "source": [
    "problemes.head()"
   ]
  },
  {
   "cell_type": "code",
   "execution_count": null,
   "metadata": {
    "colab": {
     "base_uri": "https://localhost:8080/",
     "height": 206
    },
    "id": "pYtbtPZCqlKm",
    "outputId": "176a7d64-00f0-47ae-ce6d-d1de9c0461fb"
   },
   "outputs": [],
   "source": [
    "facturacions.head()"
   ]
  },
  {
   "cell_type": "markdown",
   "metadata": {
    "id": "KGQOV3sWrrKr"
   },
   "source": [
    "Change all the date columns in the dataframes to datetime datatype."
   ]
  },
  {
   "cell_type": "code",
   "execution_count": null,
   "metadata": {
    "id": "sCnJMIVRpY0K"
   },
   "outputs": [],
   "source": [
    "pacients.dnaix = pd.to_datetime(pacients.dnaix)\n",
    "pacients.sortida = pd.to_datetime(pacients.sortida)\n",
    "problemes.dat = pd.to_datetime(problemes.dat)\n",
    "problemes.dbaixa = pd.to_datetime(problemes.dbaixa)\n",
    "facturacions.dat = pd.to_datetime(facturacions.dat)"
   ]
  },
  {
   "cell_type": "markdown",
   "metadata": {
    "id": "2KNWDeZPr0y8"
   },
   "source": [
    "Truncate diagnosis code. Consider only the main code (according to ICD-10)."
   ]
  },
  {
   "cell_type": "code",
   "execution_count": null,
   "metadata": {
    "id": "ftsXt6Dhr2DT"
   },
   "outputs": [],
   "source": [
    "problemes.cod = problemes.cod.apply(lambda x: x[:3])"
   ]
  },
  {
   "cell_type": "markdown",
   "metadata": {
    "id": "6ztrZDgu2R3l"
   },
   "source": [
    "Select only rows corresponding to diagnosis/medication codes recommended by the experts in the medical field: **Miquel Angel Pujana** and **Conxa Violan**"
   ]
  },
  {
   "cell_type": "code",
   "execution_count": null,
   "metadata": {
    "id": "13VwmZHA2h8p"
   },
   "outputs": [],
   "source": [
    "diagnoses_codes = [\n",
    "    'C50', 'E11', 'I10', 'J45', 'T78', 'J44', 'L20', 'M06', 'T45', 'J30', 'J00', 'L50', 'L30', 'H10', 'F33'\n",
    "]\n",
    "problemes = problemes[problemes.cod.isin(diagnoses_codes)]"
   ]
  },
  {
   "cell_type": "code",
   "execution_count": null,
   "metadata": {
    "id": "1mnMc9Ac2SFK"
   },
   "outputs": [],
   "source": [
    "medication_codes = [\n",
    "    'A02BA02', 'A02BA03', 'A02BA07', 'A02BA53', 'L02AE01', 'L02AE02', 'L02AE03', 'L02AE04', 'L02AE05',\n",
    "    'L02AE51', 'L02BA01', 'L02BA02', 'L02BA03', 'L02BG01', 'L02BG02', 'L02BG03', 'L02BG04', 'L02BG05',\n",
    "    'L02BG06', 'R06AX01', 'R06AX02', 'R06AX03', 'R06AX04', 'R06AX05', 'R06AX07', 'R06AX08', 'R06AX09',\n",
    "    'R06AX11', 'R06AX12', 'R06AX13', 'R06AX15', 'R06AX16', 'R06AX17', 'R06AX18', 'R06AX19', 'R06AX21',\n",
    "    'R06AX22', 'R06AX23', 'R06AX24', 'R06AX25', 'R06AX26', 'R06AX27', 'R06AX28', 'R06AX29', 'R06AX31',\n",
    "    'R06AX32', 'R06AX53', 'R06AX58'\n",
    "]\n",
    "facturacions = facturacions[facturacions.cod.isin(medication_codes)]"
   ]
  },
  {
   "cell_type": "markdown",
   "metadata": {
    "id": "Irnsia36sKNa"
   },
   "source": [
    "Convert the categorical variable *sexe* to boolean. As Machine Learning algorithms work better with float values, the new column *is_woman* will take values 0.0 and 1.0"
   ]
  },
  {
   "cell_type": "code",
   "execution_count": null,
   "metadata": {
    "colab": {
     "base_uri": "https://localhost:8080/",
     "height": 206
    },
    "id": "4_lrN9gpsF24",
    "outputId": "d0fd87c1-4787-4dd4-be10-71251e661bcf"
   },
   "outputs": [],
   "source": [
    "pacients['is_woman'] = (pacients.sexe == 'D').astype(float)\n",
    "pacients.drop(columns='sexe', inplace=True)\n",
    "pacients.head()"
   ]
  },
  {
   "cell_type": "markdown",
   "metadata": {
    "id": "QSmeeLDvtXxc"
   },
   "source": [
    "Select only data from patients with their first breast cancer diagnosis (code C50) between 01-01-2012 and 31-12-2016 (in fact, just later than 01-01-2012)"
   ]
  },
  {
   "cell_type": "code",
   "execution_count": null,
   "metadata": {
    "colab": {
     "base_uri": "https://localhost:8080/"
    },
    "id": "pam-YYLukv12",
    "outputId": "b9de2a6e-3446-4df8-cdc9-af5a4086304b"
   },
   "outputs": [],
   "source": [
    "unique_id_before = len(problemes[problemes.cod == 'C50']['ID'].unique())\n",
    "print('patients with C50 in the original problems table: '+str(unique_id_before))"
   ]
  },
  {
   "cell_type": "code",
   "execution_count": null,
   "metadata": {
    "id": "J8E81gYpt_up"
   },
   "outputs": [],
   "source": [
    "df_bcancer = problemes[problemes.cod == 'C50'].groupby('ID')['dat'].min().reset_index()\n",
    "df_bcancer = df_bcancer[df_bcancer.dat >= '2012-01-01']\n",
    "bcancer_ids = df_bcancer['ID'].unique()\n",
    "\n",
    "pacients = pacients[pacients.ID.isin(bcancer_ids)]\n",
    "problemes = problemes[problemes.ID.isin(bcancer_ids)]\n",
    "facturacions = facturacions[facturacions.ID.isin(bcancer_ids)]"
   ]
  },
  {
   "cell_type": "code",
   "execution_count": null,
   "metadata": {
    "colab": {
     "base_uri": "https://localhost:8080/"
    },
    "id": "EHS-nQ2UlKI9",
    "outputId": "12a2176a-1819-45d1-a921-90beac6673ff"
   },
   "outputs": [],
   "source": [
    "unique_id_after = len(bcancer_ids)\n",
    "print('patients with C50 in the period truncated problems table: '+str(unique_id_after))"
   ]
  },
  {
   "cell_type": "markdown",
   "metadata": {
    "id": "RWvaSIlgvjPr"
   },
   "source": [
    "Delete all records prior to 2012"
   ]
  },
  {
   "cell_type": "code",
   "execution_count": null,
   "metadata": {
    "id": "KvOnpVLpvhZz"
   },
   "outputs": [],
   "source": [
    "problemes = problemes[problemes.dat >= '2012-01-01']\n",
    "facturacions = facturacions[facturacions.dat >= '2012-01-01']"
   ]
  },
  {
   "cell_type": "markdown",
   "metadata": {
    "id": "1WdckgCAvxmh"
   },
   "source": [
    "Change all the datetime columns to number of months since birth, using the function *months_diff*."
   ]
  },
  {
   "cell_type": "code",
   "execution_count": null,
   "metadata": {
    "id": "gFJ0zvtUvKOk"
   },
   "outputs": [],
   "source": [
    "def months_diff(a, b):\n",
    "    return round((a - b)/np.timedelta64(1, 'M'), 1)"
   ]
  },
  {
   "cell_type": "code",
   "execution_count": null,
   "metadata": {
    "id": "3WmOGMEImTwz"
   },
   "outputs": [],
   "source": [
    "# Add birth date column to problemes and facturacions\n",
    "problemes = pd.merge(problemes, pacients[['ID', 'dnaix']], on='ID', how='left')\n",
    "facturacions = pd.merge(facturacions, pacients[['ID', 'dnaix']], on='ID', how='left')\n",
    "\n",
    "# Change date columns to months since birth\n",
    "pacients['sortida'] = months_diff(pacients.sortida, pacients.dnaix)\n",
    "problemes['dat'] = months_diff(problemes.dat, problemes.dnaix)\n",
    "problemes['dbaixa'] = months_diff(problemes.dbaixa, problemes.dnaix)\n",
    "facturacions['dat'] = months_diff(facturacions.dat, facturacions.dnaix)\n",
    "\n",
    "# Drop the column dnaix in all the tables, as it no longer gives additional information\n",
    "pacients.drop(columns='dnaix', inplace=True)\n",
    "problemes.drop(columns='dnaix', inplace=True)\n",
    "facturacions.drop(columns='dnaix', inplace=True)"
   ]
  },
  {
   "cell_type": "code",
   "execution_count": null,
   "metadata": {
    "colab": {
     "base_uri": "https://localhost:8080/",
     "height": 206
    },
    "id": "mbRGr_Hbv7zK",
    "outputId": "24590f15-f283-405d-db2c-2ab0c921484b"
   },
   "outputs": [],
   "source": [
    "pacients.head()"
   ]
  },
  {
   "cell_type": "code",
   "execution_count": null,
   "metadata": {
    "colab": {
     "base_uri": "https://localhost:8080/",
     "height": 206
    },
    "id": "UnCBAtwinjG7",
    "outputId": "ad9f00bf-a8da-497d-eb44-51317009f848"
   },
   "outputs": [],
   "source": [
    "problemes.head()"
   ]
  },
  {
   "cell_type": "code",
   "execution_count": null,
   "metadata": {
    "colab": {
     "base_uri": "https://localhost:8080/",
     "height": 206
    },
    "id": "thVIKprmnkcQ",
    "outputId": "0a94fac2-2b43-4c61-d554-a7bd4582a6d2"
   },
   "outputs": [],
   "source": [
    "facturacions.head()"
   ]
  },
  {
   "cell_type": "markdown",
   "metadata": {
    "id": "atb9PnqapA2-"
   },
   "source": [
    "Create auxiliar dataframe *df_cut* containing the first diagnosis of C50 for each patient, as well as the cutting date, given the number of months."
   ]
  },
  {
   "cell_type": "code",
   "execution_count": null,
   "metadata": {
    "colab": {
     "base_uri": "https://localhost:8080/",
     "height": 206
    },
    "id": "XpykWKYInmWU",
    "outputId": "d805b13f-fdef-4dd2-89c2-6e597d3775c2"
   },
   "outputs": [],
   "source": [
    "df_cut = problemes[problemes.cod == 'C50'].groupby('ID')['dat'].min().reset_index()\n",
    "df_cut.rename(columns={'dat': 'first_C50'}, inplace=True)\n",
    "df_cut['cut_date'] = df_cut['first_C50'] + num_months\n",
    "df_cut.head()"
   ]
  },
  {
   "cell_type": "markdown",
   "metadata": {
    "id": "riE8mEVJpsBk"
   },
   "source": [
    "Drop patients who do not have enough information for the given number of months: active (A) or transferred (T) patients with *sortida* date before the cutting date"
   ]
  },
  {
   "cell_type": "code",
   "execution_count": null,
   "metadata": {
    "id": "wBAm0OBOpsQL"
   },
   "outputs": [],
   "source": [
    "# Check that the IDs set is the same in pacients and df_cut\n",
    "assert set(pacients.ID) == set(df_cut.ID)\n",
    "\n",
    "# Add cut_date column to pacients\n",
    "pacients = pd.merge(pacients, df_cut[['ID', 'cut_date']], on='ID', how='left')\n",
    "\n",
    "# Leave only dead patients or those with sortida later than cut_date\n",
    "pacients = pacients[(pacients.situacio == 'D') | (pacients.sortida >= pacients.cut_date)]\n",
    "ids_list = pacients.ID.unique()\n",
    "problemes = problemes[problemes.ID.isin(ids_list)]\n",
    "facturacions = facturacions[facturacions.ID.isin(ids_list)]"
   ]
  },
  {
   "cell_type": "markdown",
   "metadata": {
    "id": "ZI5STlSRrD2n"
   },
   "source": [
    "Change the state of the patients who died (D) after the cutting date to alive (A). Same for the patients transferred (T) after the cutting date."
   ]
  },
  {
   "cell_type": "code",
   "execution_count": null,
   "metadata": {
    "id": "Nx0G5F8-rD-X"
   },
   "outputs": [],
   "source": [
    "pacients.loc[pacients.situacio == 'T', 'situacio'] = 'A'\n",
    "pacients.loc[(pacients.situacio == 'D') & (pacients.sortida >= pacients.cut_date), 'situacio'] = 'A'"
   ]
  },
  {
   "cell_type": "markdown",
   "metadata": {
    "id": "bXwGaCEJsl7p"
   },
   "source": [
    "Convert the categorical variable *situacio* to boolean. As ML algorithms work better with float values, the new column *is_dead* takes values 0.0 and 1.0"
   ]
  },
  {
   "cell_type": "code",
   "execution_count": null,
   "metadata": {
    "id": "LSanmd2RsycC"
   },
   "outputs": [],
   "source": [
    "pacients['is_dead'] = (pacients.situacio == 'D').astype(float)\n",
    "pacients.drop(columns='situacio', inplace=True)"
   ]
  },
  {
   "cell_type": "markdown",
   "metadata": {
    "id": "edizPBHKtKbl"
   },
   "source": [
    "Drop information with dates posterior to the cutting date"
   ]
  },
  {
   "cell_type": "code",
   "execution_count": null,
   "metadata": {
    "id": "WwDhjjPotKrK"
   },
   "outputs": [],
   "source": [
    "problemes = pd.merge(problemes, df_cut[['ID', 'cut_date']], on='ID', how='left')\n",
    "facturacions = pd.merge(facturacions, df_cut[['ID', 'cut_date']], on='ID', how='left')\n",
    "\n",
    "problemes = problemes[(problemes.dat <= problemes.cut_date)]\n",
    "facturacions = facturacions[facturacions.dat <= facturacions.cut_date]"
   ]
  },
  {
   "cell_type": "markdown",
   "metadata": {
    "id": "BHQiPsDvuEJf"
   },
   "source": [
    "Fill in uninformed values in *dbaixa* with death date (if dead) or cutting date (if alive)."
   ]
  },
  {
   "cell_type": "code",
   "execution_count": null,
   "metadata": {
    "id": "ndl9A70MuR_J"
   },
   "outputs": [],
   "source": [
    "problemes = pd.merge(problemes, pacients[['ID', 'is_dead', 'sortida']], on='ID', how='left')\n",
    "\n",
    "filt_no_dbaixa = (problemes.dbaixa.isna())\n",
    "filt_dead = (problemes.is_dead == 1.)\n",
    "problemes.loc[filt_no_dbaixa & filt_dead, 'dbaixa'] = problemes[filt_no_dbaixa & filt_dead]['sortida']\n",
    "problemes.loc[filt_no_dbaixa & ~filt_dead, 'dbaixa'] = problemes[filt_no_dbaixa & ~filt_dead]['cut_date']"
   ]
  },
  {
   "cell_type": "markdown",
   "metadata": {
    "id": "FpgJ6rWOveET"
   },
   "source": [
    "Drop the columns added to the dataframes just for calculations (to avoid problems in future operations)."
   ]
  },
  {
   "cell_type": "code",
   "execution_count": null,
   "metadata": {
    "id": "SknGZ_ZOvdU1"
   },
   "outputs": [],
   "source": [
    "pacients.drop(columns=['cut_date', 'sortida'], inplace=True)\n",
    "problemes.drop(columns=['cut_date', 'is_dead', 'sortida'], inplace=True)\n",
    "facturacions.drop(columns='cut_date', inplace=True)"
   ]
  },
  {
   "cell_type": "markdown",
   "metadata": {
    "id": "ogwU8E1ewgVe"
   },
   "source": [
    "Check the state of the tables after all the previous transformations"
   ]
  },
  {
   "cell_type": "code",
   "execution_count": null,
   "metadata": {
    "colab": {
     "base_uri": "https://localhost:8080/",
     "height": 206
    },
    "id": "2apfnQGZvXo6",
    "outputId": "75abbf4b-0c5c-4978-e040-0ab87992053b"
   },
   "outputs": [],
   "source": [
    "pacients.head()"
   ]
  },
  {
   "cell_type": "code",
   "execution_count": null,
   "metadata": {
    "colab": {
     "base_uri": "https://localhost:8080/",
     "height": 206
    },
    "id": "yY51BlDavZzJ",
    "outputId": "66bc541f-6b66-4091-ad23-f0212cc384ee"
   },
   "outputs": [],
   "source": [
    "problemes.head()"
   ]
  },
  {
   "cell_type": "code",
   "execution_count": null,
   "metadata": {
    "colab": {
     "base_uri": "https://localhost:8080/",
     "height": 206
    },
    "id": "bmwXf3dvvZ1W",
    "outputId": "1132e520-f267-4498-9da1-06c9edd15e60"
   },
   "outputs": [],
   "source": [
    "facturacions.head()"
   ]
  },
  {
   "cell_type": "markdown",
   "metadata": {
    "id": "4ODKQkWSwsqu"
   },
   "source": [
    "## **Part II:** Aggregating, pivoting and merging into a master table"
   ]
  },
  {
   "cell_type": "markdown",
   "metadata": {
    "id": "s23Q_7mxxK5m"
   },
   "source": [
    "Remove duplicates of the pairs (ID, cod).\n",
    " - In **problemes** aggregate rows: minimum of *dat*, maximum of *dbaixa*, sum of *num_diag* (to count the number of the same diagnosis (ID, cod))\n",
    " - In **facturacions** aggregate rows: minimum and maximum of *dat*, sum of *env*"
   ]
  },
  {
   "cell_type": "code",
   "execution_count": null,
   "metadata": {
    "colab": {
     "base_uri": "https://localhost:8080/",
     "height": 206
    },
    "id": "uyKPjnzUwmqF",
    "outputId": "cfbcf4ae-fd6a-46b7-f0c3-b747be0b4faf"
   },
   "outputs": [],
   "source": [
    "problemes['num_diag'] = 1\n",
    "problemes_gr = problemes.groupby(['ID', 'cod']).agg({'dat': 'min', 'dbaixa': 'max', 'num_diag': 'sum'}).reset_index()\n",
    "\n",
    "problemes_gr.head()"
   ]
  },
  {
   "cell_type": "code",
   "execution_count": null,
   "metadata": {
    "colab": {
     "base_uri": "https://localhost:8080/",
     "height": 206
    },
    "id": "XyOjQ2QcxzBB",
    "outputId": "5fc3e2ed-6b83-428e-c436-12c0485ff8dd"
   },
   "outputs": [],
   "source": [
    "facturacions_gr = facturacions.groupby(['ID', 'cod']).agg({'dat': ['min', 'max'], 'env': 'sum'}).reset_index()\n",
    "facturacions_gr.columns=['ID', 'cod', 'dat_min', 'dat_max', 'env_total']\n",
    "facturacions_gr.head()"
   ]
  },
  {
   "cell_type": "markdown",
   "metadata": {
    "id": "VaTsDcMVycdi"
   },
   "source": [
    "Check that there is only one row per patient and diagnosis/medication"
   ]
  },
  {
   "cell_type": "code",
   "execution_count": null,
   "metadata": {
    "id": "ovUgFqQ2yc02"
   },
   "outputs": [],
   "source": [
    "assert len(problemes_gr) == len(problemes[['ID', 'cod']].drop_duplicates())\n",
    "assert len(facturacions_gr) == len(facturacions[['ID', 'cod']].drop_duplicates())"
   ]
  },
  {
   "cell_type": "markdown",
   "metadata": {
    "id": "eQxNNhs1yyA0"
   },
   "source": [
    "Create new columns which will be used for pivoting in the following steps. They contain the names of future dataframe columns"
   ]
  },
  {
   "cell_type": "code",
   "execution_count": null,
   "metadata": {
    "colab": {
     "base_uri": "https://localhost:8080/",
     "height": 206
    },
    "id": "PKDwWN3ZzPc7",
    "outputId": "6126bf57-28dc-4efa-8cbb-2352a9b92ec0"
   },
   "outputs": [],
   "source": [
    "problemes_gr['cod_diag'] = problemes_gr.cod+'_d'\n",
    "problemes_gr['cod_recovery'] = problemes_gr.cod+'_r'\n",
    "problemes_gr.head()"
   ]
  },
  {
   "cell_type": "code",
   "execution_count": null,
   "metadata": {
    "colab": {
     "base_uri": "https://localhost:8080/",
     "height": 206
    },
    "id": "DkGIRn-Xy1XZ",
    "outputId": "29e804f6-b86a-4040-c4e2-bb6285e3ccf6"
   },
   "outputs": [],
   "source": [
    "facturacions_gr['cod_start_med'] = facturacions_gr.cod+'_s'\n",
    "facturacions_gr['cod_end_med'] = facturacions_gr.cod+'_e'\n",
    "facturacions_gr.head()"
   ]
  },
  {
   "cell_type": "markdown",
   "metadata": {
    "id": "4Lom4TwPzdIn"
   },
   "source": [
    "Pivot *problemes_gr* into three new auxiliary dataframes and merge them with *pacients*, creating a new dataframe *df_master*.\n",
    "\n",
    "What are the values of the columns in each of the tables?\n",
    "\n",
    "- In **problemes_aux1** the numbers represent the **number of times** the patient has been diagnosed with that illness.\n",
    "- In **problemes_aux2** the dates (in number of months since birth) represent the **first time** the patient has been diagnosed with that illness.\n",
    "- In **problemes_aux3** the dates (in number of months since birth) represent the **last recovery date** from that illness, or **death date** (if no recovery and death), or **cutting date** (if no recovery and alive)."
   ]
  },
  {
   "cell_type": "code",
   "execution_count": null,
   "metadata": {
    "colab": {
     "base_uri": "https://localhost:8080/",
     "height": 206
    },
    "id": "CyW1h_gazU6l",
    "outputId": "9c8afe8f-9b7b-4f85-f698-2f01daaac67c"
   },
   "outputs": [],
   "source": [
    "problemes_aux1 = problemes_gr.pivot_table(index='ID', columns='cod', values='num_diag').reset_index()\n",
    "problemes_aux1.head()"
   ]
  },
  {
   "cell_type": "code",
   "execution_count": null,
   "metadata": {
    "colab": {
     "base_uri": "https://localhost:8080/",
     "height": 206
    },
    "id": "KFfOV_IAzs2w",
    "outputId": "d64e6a91-6a52-4f79-f228-b20d1effc371"
   },
   "outputs": [],
   "source": [
    "problemes_aux2 = problemes_gr.pivot(index='ID', columns='cod_diag', values='dat').reset_index()\n",
    "problemes_aux2.head()"
   ]
  },
  {
   "cell_type": "code",
   "execution_count": null,
   "metadata": {
    "colab": {
     "base_uri": "https://localhost:8080/",
     "height": 206
    },
    "id": "yoi9GxA1zvJF",
    "outputId": "7ae6ac11-eb33-4660-dc70-498d26a3de37"
   },
   "outputs": [],
   "source": [
    "problemes_aux3 = problemes_gr.pivot(index='ID', columns='cod_recovery', values='dbaixa').reset_index()\n",
    "problemes_aux3.head()"
   ]
  },
  {
   "cell_type": "markdown",
   "metadata": {
    "id": "dprk_Df5YXXK"
   },
   "source": [
    "**Estoy pensando que tal como lo has organizado puede que no fuera necesario quitar C50_r aunque no estoy seguro de si esta aportando algo realmente (miguel)** "
   ]
  },
  {
   "cell_type": "code",
   "execution_count": null,
   "metadata": {
    "colab": {
     "base_uri": "https://localhost:8080/",
     "height": 226
    },
    "id": "gJpa16U00Jk2",
    "outputId": "16577777-9d49-463b-94be-305b9d429ddc"
   },
   "outputs": [],
   "source": [
    "df_master = pd.merge(pacients, problemes_aux1, how='left', on='ID')\n",
    "df_master = pd.merge(df_master, problemes_aux2, how='left', on='ID')\n",
    "df_master = pd.merge(df_master, problemes_aux3, how='left', on='ID')\n",
    "\n",
    "df_master.head()"
   ]
  },
  {
   "cell_type": "markdown",
   "metadata": {
    "id": "1Jndv0eY0JvP"
   },
   "source": [
    "Pivot *problemes_gr* into three new auxiliary dataframes and merge them with *df_master*\n",
    "\n",
    "What are the values of the columns in each of the tables?\n",
    "\n",
    "- In **facturacions_aux1** the numbers represent the **number of medication boxes** the pacient has taken.\n",
    "- In **facturacions_aux2** the dates represent the **first time** the patient has taken the medication.\n",
    "- In **facturacions_aux3** the dates represent the **last time** the patient has taken the medication."
   ]
  },
  {
   "cell_type": "code",
   "execution_count": null,
   "metadata": {
    "colab": {
     "base_uri": "https://localhost:8080/",
     "height": 206
    },
    "id": "9O--kG1Az3g6",
    "outputId": "69ab6bb3-48b9-4589-a027-a00d1a801999"
   },
   "outputs": [],
   "source": [
    "facturacions_aux1 = facturacions_gr.pivot_table(index='ID', columns='cod', values='env_total').reset_index()\n",
    "facturacions_aux1.head()"
   ]
  },
  {
   "cell_type": "code",
   "execution_count": null,
   "metadata": {
    "colab": {
     "base_uri": "https://localhost:8080/",
     "height": 206
    },
    "id": "mTMSc0-sz31B",
    "outputId": "c3800098-9e4a-4831-ce9a-51d5eb4f66a3"
   },
   "outputs": [],
   "source": [
    "facturacions_aux2 = facturacions_gr.pivot(index='ID', columns='cod_start_med', values='dat_min').reset_index()\n",
    "facturacions_aux2.head()"
   ]
  },
  {
   "cell_type": "code",
   "execution_count": null,
   "metadata": {
    "colab": {
     "base_uri": "https://localhost:8080/",
     "height": 206
    },
    "id": "69QtkEUGz331",
    "outputId": "ac4bd62c-56eb-463a-83b1-85844c5bde5f"
   },
   "outputs": [],
   "source": [
    "facturacions_aux3 = facturacions_gr.pivot(index='ID', columns='cod_end_med', values='dat_max').reset_index()\n",
    "facturacions_aux3.head()"
   ]
  },
  {
   "cell_type": "code",
   "execution_count": null,
   "metadata": {
    "id": "t6c7Uk110Q7n"
   },
   "outputs": [],
   "source": [
    "df_master = pd.merge(df_master, facturacions_aux1, how='left', on='ID')\n",
    "df_master = pd.merge(df_master, facturacions_aux2, how='left', on='ID')\n",
    "df_master = pd.merge(df_master, facturacions_aux3, how='left', on='ID')"
   ]
  },
  {
   "cell_type": "markdown",
   "metadata": {
    "id": "Uc8aD5s01h5m"
   },
   "source": [
    "Drop the column ID, as it should not be used from now on"
   ]
  },
  {
   "cell_type": "code",
   "execution_count": null,
   "metadata": {
    "id": "YcgL4skW1iEi"
   },
   "outputs": [],
   "source": [
    "df_master.drop(columns='ID', inplace=True)"
   ]
  },
  {
   "cell_type": "markdown",
   "metadata": {
    "id": "0QQMPmDr0qky"
   },
   "source": [
    "The final master table"
   ]
  },
  {
   "cell_type": "code",
   "execution_count": null,
   "metadata": {
    "colab": {
     "base_uri": "https://localhost:8080/",
     "height": 444
    },
    "id": "yOP9kp6R0qr2",
    "outputId": "4a07e451-6fbf-4327-e65c-68a5e8f57df7"
   },
   "outputs": [],
   "source": [
    "df_master"
   ]
  },
  {
   "cell_type": "markdown",
   "metadata": {
    "id": "3_kTvwOx0yXt"
   },
   "source": [
    "## **Part III:** Save the master table to csv file"
   ]
  },
  {
   "cell_type": "code",
   "execution_count": null,
   "metadata": {
    "id": "RQT8hq-G0y3N"
   },
   "outputs": [],
   "source": [
    "df_master.to_csv(path + f'df_master_{num_months}.csv', index=False)"
   ]
  },
  {
   "cell_type": "code",
   "execution_count": null,
   "metadata": {
    "id": "DeDNvMUrak1J"
   },
   "outputs": [],
   "source": []
  }
 ],
 "metadata": {
  "colab": {
   "collapsed_sections": [],
   "name": "1. Create tables df_master_X.ipynb",
   "provenance": []
  },
  "kernelspec": {
   "display_name": "Python 3",
   "language": "python",
   "name": "python3"
  },
  "language_info": {
   "codemirror_mode": {
    "name": "ipython",
    "version": 3
   },
   "file_extension": ".py",
   "mimetype": "text/x-python",
   "name": "python",
   "nbconvert_exporter": "python",
   "pygments_lexer": "ipython3",
   "version": "3.6.9"
  }
 },
 "nbformat": 4,
 "nbformat_minor": 1
}
