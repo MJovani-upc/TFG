{
 "cells": [
  {
   "cell_type": "code",
   "execution_count": 1,
   "metadata": {
    "colab": {
     "base_uri": "https://localhost:8080/"
    },
    "executionInfo": {
     "elapsed": 1743,
     "status": "ok",
     "timestamp": 1610233363013,
     "user": {
      "displayName": "Mar Jovani Albalat",
      "photoUrl": "https://lh3.googleusercontent.com/a-/AOh14Ghj9WFx1bAtMg06_h7i7dShczW_2A7-SCoYDCRF=s64",
      "userId": "02812456591977251408"
     },
     "user_tz": -60
    },
    "id": "dRDDmm6zb5fa",
    "outputId": "91dd1766-0d4f-42df-89fc-b722261705d5"
   },
   "outputs": [
    {
     "name": "stdout",
     "output_type": "stream",
     "text": [
      "Drive already mounted at /content/drive; to attempt to forcibly remount, call drive.mount(\"/content/drive\", force_remount=True).\n"
     ]
    }
   ],
   "source": [
    "from google.colab import drive\n",
    "drive.mount('/content/drive')"
   ]
  },
  {
   "cell_type": "code",
   "execution_count": 2,
   "metadata": {
    "executionInfo": {
     "elapsed": 1736,
     "status": "ok",
     "timestamp": 1610233363013,
     "user": {
      "displayName": "Mar Jovani Albalat",
      "photoUrl": "https://lh3.googleusercontent.com/a-/AOh14Ghj9WFx1bAtMg06_h7i7dShczW_2A7-SCoYDCRF=s64",
      "userId": "02812456591977251408"
     },
     "user_tz": -60
    },
    "id": "hVG_Db2bXZg6"
   },
   "outputs": [],
   "source": [
    "import matplotlib.pyplot as plt\n",
    "import numpy as np\n",
    "import pandas as pd\n",
    "import time\n",
    "from datetime import date\n",
    "from sklearn.metrics import accuracy_score, f1_score, precision_score, recall_score, roc_curve, roc_auc_score\n",
    "from sklearn.model_selection import train_test_split, GridSearchCV\n",
    "from sklearn.utils import resample\n",
    "from xgboost import XGBClassifier\n",
    "import os\n",
    "import json\n",
    "\n",
    "path = '/content/drive/MyDrive/TFG ICO/Notebooks/Tables/'"
   ]
  },
  {
   "cell_type": "markdown",
   "metadata": {
    "id": "HfpDb9cCVm9B"
   },
   "source": [
    "***\n",
    "# Useful functions"
   ]
  },
  {
   "cell_type": "code",
   "execution_count": 5,
   "metadata": {
    "colab": {
     "base_uri": "https://localhost:8080/"
    },
    "executionInfo": {
     "elapsed": 2351,
     "status": "ok",
     "timestamp": 1610233365026,
     "user": {
      "displayName": "Mar Jovani Albalat",
      "photoUrl": "https://lh3.googleusercontent.com/a-/AOh14Ghj9WFx1bAtMg06_h7i7dShczW_2A7-SCoYDCRF=s64",
      "userId": "02812456591977251408"
     },
     "user_tz": -60
    },
    "id": "IM7Se3CbVm9B",
    "outputId": "b5a086d5-abf8-4233-a5a6-6b6c5c92394c"
   },
   "outputs": [
    {
     "name": "stdout",
     "output_type": "stream",
     "text": [
      "36 months\n",
      "=== Training set: \n",
      "3082 patients -- 27.5% dead \n",
      "\n",
      "=== After upsample: \n",
      "4470 patients -- 50.0% dead\n",
      "=== After upsample: \n",
      "4470 patients -- 50.0% dead\n",
      "=== After upsample: \n",
      "4470 patients -- 50.0% dead\n"
     ]
    }
   ],
   "source": [
    "def plot_roc_curve(y_test, y_pred_prob):\n",
    "    fpr, tpr, thresholds = roc_curve(y_test, y_pred_prob)\n",
    "    plt.plot(fpr, tpr, linewidth=2, label=None)\n",
    "    plt.plot([0, 1], [0, 1], 'k--') # Dashed diagonal\n",
    "    plt.grid(True)\n",
    "    plt.xlabel('False Positive Rate')\n",
    "    plt.ylabel('True Positive Rate (Recall)')\n",
    "    plt.show()"
   ]
  },
  {
   "cell_type": "code",
   "execution_count": 6,
   "metadata": {
    "executionInfo": {
     "elapsed": 1616,
     "status": "ok",
     "timestamp": 1610233365027,
     "user": {
      "displayName": "Mar Jovani Albalat",
      "photoUrl": "https://lh3.googleusercontent.com/a-/AOh14Ghj9WFx1bAtMg06_h7i7dShczW_2A7-SCoYDCRF=s64",
      "userId": "02812456591977251408"
     },
     "user_tz": -60
    },
    "id": "m_it5iAWZ18h"
   },
   "outputs": [],
   "source": [
    "pd.set_option('display.max_columns', None)\n",
    "pd.set_option('display.width', None)\n",
    "pd.set_option('display.max_colwidth', None)"
   ]
  },
  {
   "cell_type": "code",
   "execution_count": 7,
   "metadata": {
    "executionInfo": {
     "elapsed": 1177,
     "status": "ok",
     "timestamp": 1610233373800,
     "user": {
      "displayName": "Mar Jovani Albalat",
      "photoUrl": "https://lh3.googleusercontent.com/a-/AOh14Ghj9WFx1bAtMg06_h7i7dShczW_2A7-SCoYDCRF=s64",
      "userId": "02812456591977251408"
     },
     "user_tz": -60
    },
    "id": "Gj98yYnM9Z5G"
   },
   "outputs": [],
   "source": [
    "def main(months):\n",
    "    ## Load the data\n",
    "    df_test = pd.read_csv(path + f'df_test_{months}.csv')\n",
    "    X_test = df_test.loc[:, df_test.columns != 'is_dead']\n",
    "    y_test = df_test['is_dead']\n",
    "\n",
    "    df_train = pd.read_csv(path + f'df_train_{months}.csv')\n",
    "    X_train = df_train.loc[:, df_train.columns != 'is_dead']\n",
    "    y_train = df_train['is_dead']\n",
    "    print(months, 'months')\n",
    "    print('=== Training set: \\n{} patients -- {}% dead \\n'.format(len(df_train), round(100*df_train.is_dead.mean(), 1)))\n",
    "\n",
    "    ## The chosen algorithm is XGB, no scaling is neeeded\n",
    "    \n",
    "    ## Fill missing values with zeros\n",
    "    X_train = X_train.fillna(0)\n",
    "    X_test = X_test.fillna(0)\n",
    "\n",
    "        \n",
    "    ## Upsampling\n",
    "    df_train = X_train.copy()\n",
    "    df_train['is_dead'] = y_train.copy()\n",
    "    # Separate minority and majority\n",
    "    df_dead = df_train[df_train.is_dead == 1.]\n",
    "    df_alive = df_train[df_train.is_dead == 0.]\n",
    "    # Upsampling the minority\n",
    "    df_dead_upsampled = resample(df_dead, replace=True, n_samples=len(df_alive), random_state=0)\n",
    "    # New training set\n",
    "    df_upsampled = pd.concat([df_alive, df_dead_upsampled])\n",
    "    X_train = df_upsampled.loc[:, df_upsampled.columns != 'is_dead']\n",
    "    y_train = df_upsampled['is_dead']\n",
    "\n",
    "\n",
    "    start = time.time()\n",
    "\n",
    "    X = X_train.copy()\n",
    "    y = y_train.copy()\n",
    "\n",
    "    ### Grid search with cross-validation   \n",
    "    hyperparams = [\n",
    "        {\n",
    "            'n_estimators':[50, 100, 250, 500, 750], \n",
    "            'max_depth':[2, 3, 5, 10, 15, 20, 25, 30, 40, 60],\n",
    "        }\n",
    "    ]\n",
    "    gs = GridSearchCV(\n",
    "        XGBClassifier(random_state=0), \n",
    "        hyperparams,\n",
    "        cv=5, \n",
    "        scoring=['roc_auc','f1','accuracy', 'precision', 'recall'], \n",
    "        refit = False\n",
    "    )\n",
    "    gs.fit(X, y)    \n",
    "    df_cv_results = pd.DataFrame(gs.cv_results_)\n",
    "    df_cv_results['model'] = 'xgb'\n",
    "    \n",
    "    end = time.time()\n",
    "    duration = end - start\n",
    "    if duration > 3600:\n",
    "      duration = duration/3600\n",
    "      unit = 'hours'\n",
    "    elif duration > 60:\n",
    "      duration = duration/60\n",
    "      unit = 'minutes'\n",
    "    else:\n",
    "      unit = 'seconds'\n",
    "    print('Fitted in {} {}'.format(round(duration, 1), unit))\n",
    "\n",
    "    cols_to_show = ['model', 'params', 'mean_test_roc_auc', 'mean_test_f1', 'mean_test_precision', 'mean_test_recall']\n",
    "    df_results = df_cv_results[cols_to_show].round(3)\n",
    "    df_results = df_results.sort_values(by=['mean_test_roc_auc', 'mean_test_f1'], ascending=False)\n",
    "\n",
    "    df_results.to_csv(path + f'fit_results_{months}.csv', index=False)\n",
    "\n",
    "\n",
    "\n",
    "    best_result_alg = df_results.iloc[0]\n",
    "    print('Metrics from cross-validation')\n",
    "    print(best_result_alg)\n",
    "    best_hyperparameters = best_result_alg['params']\n",
    "    print('Best hyperparameters:', best_hyperparameters)\n",
    "\n",
    "    # Select and train the best estimator\n",
    "    model = XGBClassifier(random_state=0).set_params(**best_hyperparameters)\n",
    "    model.fit(X, y)\n",
    "\n",
    "    #Make predictions on the test set\n",
    "    y_pred = model.predict(X_test)\n",
    "    print('Predicted', sum(y_pred), 'deaths out of', len(y_pred), 'patients ({}%)'.format(round(100*sum(y_pred)/len(y_pred),1)))\n",
    "\n",
    "    y_pred_prob = model.predict_proba(X_test)[:, 1]\n",
    "    print('Min prob:', round(min(y_pred_prob), 3))\n",
    "    print('Max prob:', round(max(y_pred_prob), 3))\n",
    "\n",
    "    plot_roc_curve(y_test, y_pred_prob)\n",
    "\n",
    "    ## Metrics\n",
    "    print('Metrics on the test set')\n",
    "    print(round(roc_auc_score(y_test, y_pred_prob), 3))\n",
    "    print(round(f1_score(y_test, y_pred), 3))\n",
    "    print(round(accuracy_score(y_test, y_pred), 3))\n",
    "    print(round(precision_score(y_test, y_pred), 3))\n",
    "    print(round(recall_score(y_test, y_pred), 3))\n",
    "\n"
   ]
  },
  {
   "cell_type": "code",
   "execution_count": 8,
   "metadata": {
    "colab": {
     "base_uri": "https://localhost:8080/",
     "height": 1000
    },
    "executionInfo": {
     "elapsed": 8545503,
     "status": "ok",
     "timestamp": 1610241918473,
     "user": {
      "displayName": "Mar Jovani Albalat",
      "photoUrl": "https://lh3.googleusercontent.com/a-/AOh14Ghj9WFx1bAtMg06_h7i7dShczW_2A7-SCoYDCRF=s64",
      "userId": "02812456591977251408"
     },
     "user_tz": -60
    },
    "id": "ke8sK7e0HKNc",
    "outputId": "b051f577-01d4-4118-8852-1d9ac9cd10e8"
   },
   "outputs": [
    {
     "name": "stdout",
     "output_type": "stream",
     "text": [
      "12 months\n",
      "=== Training set: \n",
      "5105 patients -- 6.4% dead \n",
      "\n",
      "Fitted in 1.3 hours\n",
      "model                                                     xgb\n",
      "params                 {'max_depth': 15, 'n_estimators': 750}\n",
      "mean_test_roc_auc                                       0.998\n",
      "mean_test_f1                                            0.993\n",
      "mean_test_precision                                     0.986\n",
      "mean_test_recall                                            1\n",
      "Name: 24, dtype: object\n",
      "Best hyperparameters: {'max_depth': 15, 'n_estimators': 750}\n",
      "Predicted 50.0 deaths out of 902 patients (5.5%)\n",
      "Min prob: 0.0\n",
      "Max prob: 1.0\n"
     ]
    },
    {
     "data": {
      "image/png": "[encoded data removed]",
      "text/plain": [
       "<Figure size 432x288 with 1 Axes>"
      ]
     },
     "metadata": {
      "needs_background": "light",
      "tags": []
     },
     "output_type": "display_data"
    },
    {
     "name": "stdout",
     "output_type": "stream",
     "text": [
      "0.935\n",
      "0.63\n",
      "0.956\n",
      "0.68\n",
      "0.586\n",
      "24 months\n",
      "=== Training set: \n",
      "4100 patients -- 16.0% dead \n",
      "\n",
      "Fitted in 1.0 hours\n",
      "model                                                     xgb\n",
      "params                 {'max_depth': 15, 'n_estimators': 500}\n",
      "mean_test_roc_auc                                       0.996\n",
      "mean_test_f1                                            0.988\n",
      "mean_test_precision                                     0.978\n",
      "mean_test_recall                                        0.998\n",
      "Name: 23, dtype: object\n",
      "Best hyperparameters: {'max_depth': 15, 'n_estimators': 500}\n",
      "Predicted 106.0 deaths out of 724 patients (14.6%)\n",
      "Min prob: 0.0\n",
      "Max prob: 1.0\n"
     ]
    },
    {
     "data": {
      "image/png": "[encoded data removed]",
      "text/plain": [
       "<Figure size 432x288 with 1 Axes>"
      ]
     },
     "metadata": {
      "needs_background": "light",
      "tags": []
     },
     "output_type": "display_data"
    },
    {
     "name": "stdout",
     "output_type": "stream",
     "text": [
      "0.935\n",
      "0.739\n",
      "0.92\n",
      "0.774\n",
      "0.707\n"
     ]
    }
   ],
   "source": [
    "for months in [12, 24, 36, 48]:\n",
    "    main(months)"
   ]
  },
  {
   "cell_type": "code",
   "execution_count": null,
   "metadata": {
    "id": "cBqHvWUaHKPt"
   },
   "outputs": [],
   "source": []
  },
  {
   "cell_type": "code",
   "execution_count": null,
   "metadata": {
    "id": "kivDfV16HKSL"
   },
   "outputs": [],
   "source": []
  }
 ],
 "metadata": {
  "colab": {
   "collapsed_sections": [],
   "name": "Còpia de Còpia de 3. Classification C50 scaling first.ipynb",
   "provenance": []
  },
  "kernelspec": {
   "display_name": "Python 3",
   "language": "python",
   "name": "python3"
  },
  "language_info": {
   "codemirror_mode": {
    "name": "ipython",
    "version": 3
   },
   "file_extension": ".py",
   "mimetype": "text/x-python",
   "name": "python",
   "nbconvert_exporter": "python",
   "pygments_lexer": "ipython3",
   "version": "3.6.9"
  }
 },
 "nbformat": 4,
 "nbformat_minor": 1
}
